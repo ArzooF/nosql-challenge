{
 "cells": [
  {
   "cell_type": "markdown",
   "id": "9a57c4c6",
   "metadata": {},
   "source": [
    "# Eat Safe, Love"
   ]
  },
  {
   "cell_type": "markdown",
   "id": "064ef857",
   "metadata": {},
   "source": [
    "## Notebook Set Up"
   ]
  },
  {
   "cell_type": "code",
   "execution_count": 1,
   "id": "3ecdd008",
   "metadata": {},
   "outputs": [],
   "source": [
    "from pymongo import MongoClient\n",
    "import pandas as pd\n",
    "from pprint import pprint"
   ]
  },
  {
   "cell_type": "code",
   "execution_count": 2,
   "id": "59390c4a",
   "metadata": {},
   "outputs": [],
   "source": [
    "# Create an instance of MongoClient\n",
    "mongo = MongoClient(port=27017)"
   ]
  },
  {
   "cell_type": "code",
   "execution_count": 3,
   "id": "71e373c1",
   "metadata": {},
   "outputs": [],
   "source": [
    "# assign the uk_food database to a variable name\n",
    "db = client['uk_food']"
   ]
  },
  {
   "cell_type": "code",
   "execution_count": 6,
   "id": "18ab463c",
   "metadata": {},
   "outputs": [
    {
     "name": "stdout",
     "output_type": "stream",
     "text": [
      "['establishments']\n"
     ]
    }
   ],
   "source": [
    "# review the collections in our database\n",
    "collections = db.list_collection_names()\n",
    "pprint(collections)"
   ]
  },
  {
   "cell_type": "code",
   "execution_count": 7,
   "id": "11c9f11b",
   "metadata": {},
   "outputs": [],
   "source": [
    "# assign the collection to a variable\n",
    "establishments = db['establishments']"
   ]
  },
  {
   "cell_type": "markdown",
   "id": "d5671434",
   "metadata": {},
   "source": [
    "## Part 3: Exploratory Analysis\n",
    "Unless otherwise stated, for each question: \n",
    "* Use `count_documents` to display the number of documents contained in the result.\n",
    "* Display the first document in the results using `pprint`.\n",
    "* Convert the result to a Pandas DataFrame, print the number of rows in the DataFrame, and display the first 10 rows."
   ]
  },
  {
   "cell_type": "markdown",
   "id": "314bd884",
   "metadata": {},
   "source": [
    "### 1. Which establishments have a hygiene score equal to 20?"
   ]
  },
  {
   "cell_type": "code",
   "execution_count": 8,
   "id": "c2da7648",
   "metadata": {},
   "outputs": [
    {
     "name": "stdout",
     "output_type": "stream",
     "text": [
      "Number of establishments with a hygiene score of 20: 0\n",
      "First document with a hygiene score of 20:\n",
      "None\n"
     ]
    }
   ],
   "source": [
    "# Find the establishments with a hygiene score of 20\n",
    "query = {\"scores.Hygeine\": 20}\n",
    "\n",
    "# Use count_documents to display the number of documents in the result\n",
    "num_documents = db.establishments.count_documents(query)\n",
    "print(f\"Number of establishments with a hygiene score of 20: {num_documents}\")\n",
    "\n",
    "# Display the first document in the results using pprint\n",
    "first_document = db.establishments.find_one(query)\n",
    "print(\"First document with a hygiene score of 20:\")\n",
    "pprint(first_document)"
   ]
  },
  {
   "cell_type": "code",
   "execution_count": 9,
   "id": "a6e5cece",
   "metadata": {},
   "outputs": [
    {
     "name": "stdout",
     "output_type": "stream",
     "text": [
      "Number of rows in the DataFrame: 0\n",
      "First 10 rows of the DataFrame:\n",
      "Empty DataFrame\n",
      "Columns: []\n",
      "Index: []\n"
     ]
    }
   ],
   "source": [
    "# Convert the result to a Pandas DataFrame\n",
    "results = list(db.establishments.find(query))\n",
    "df = pd.DataFrame(results)\n",
    "\n",
    "# Display the number of rows in the DataFrame\n",
    "print(f\"Number of rows in the DataFrame: {len(df)}\")\n",
    "\n",
    "# Display the first 10 rows of the DataFrame\n",
    "print(\"First 10 rows of the DataFrame:\")\n",
    "print(df.head(10))"
   ]
  },
  {
   "cell_type": "markdown",
   "id": "0ef4395a",
   "metadata": {},
   "source": [
    "### 2. Which establishments in London have a `RatingValue` greater than or equal to 4?"
   ]
  },
  {
   "cell_type": "code",
   "execution_count": 10,
   "id": "93c63829",
   "metadata": {},
   "outputs": [
    {
     "name": "stdout",
     "output_type": "stream",
     "text": [
      "Number of establishments in London with a RatingValue >= 4: 0\n",
      "First document in London with a RatingValue >= 4:\n",
      "None\n"
     ]
    }
   ],
   "source": [
    "# Find the establishments with London as the Local Authority and has a RatingValue greater than or equal to 4.\n",
    "query = {\n",
    "    \"LocalAuthorityName\": \"London\",\n",
    "    \"RatingValue\": {\"$gte\": 4}\n",
    "}\n",
    "\n",
    "# Use count_documents to display the number of documents in the result\n",
    "num_documents = db.establishments.count_documents(query)\n",
    "print(f\"Number of establishments in London with a RatingValue >= 4: {num_documents}\")\n",
    "\n",
    "# Display the first document in the results using pprint\n",
    "first_document = db.establishments.find_one(query)\n",
    "print(\"First document in London with a RatingValue >= 4:\")\n",
    "pprint(first_document)"
   ]
  },
  {
   "cell_type": "code",
   "execution_count": 11,
   "id": "07e24ccb",
   "metadata": {},
   "outputs": [
    {
     "name": "stdout",
     "output_type": "stream",
     "text": [
      "Number of rows in the DataFrame: 0\n",
      "First 10 rows of the DataFrame:\n",
      "Empty DataFrame\n",
      "Columns: []\n",
      "Index: []\n"
     ]
    }
   ],
   "source": [
    "# Convert the result to a Pandas DataFrame\n",
    "results = list(db.establishments.find(query))\n",
    "df = pd.DataFrame(results)\n",
    "\n",
    "# Display the number of rows in the DataFrame\n",
    "print(f\"Number of rows in the DataFrame: {len(df)}\")\n",
    "\n",
    "# Display the first 10 rows of the DataFrame\n",
    "print(\"First 10 rows of the DataFrame:\")\n",
    "print(df.head(10))"
   ]
  },
  {
   "attachments": {},
   "cell_type": "markdown",
   "id": "4e570caf",
   "metadata": {},
   "source": [
    "### 3. What are the top 5 establishments with a `RatingValue` rating value of 5, sorted by lowest hygiene score, nearest to the new restaurant added, \"Penang Flavours\"?"
   ]
  },
  {
   "cell_type": "code",
   "execution_count": 12,
   "id": "7f599f3d",
   "metadata": {},
   "outputs": [
    {
     "name": "stdout",
     "output_type": "stream",
     "text": [
      "Top 5 establishments with a RatingValue of 5, sorted by lowest hygiene score, within 0.01 degrees of the specified location:\n",
      "{'AddressLine1': 'Folkestone Harbour',\n",
      " 'AddressLine2': 'Harbour Approach Road',\n",
      " 'AddressLine3': 'Folkestone',\n",
      " 'AddressLine4': 'Kent',\n",
      " 'BusinessName': 'Little Rock',\n",
      " 'BusinessType': 'Other catering premises',\n",
      " 'BusinessTypeID': 7841,\n",
      " 'ChangesByServerID': 0,\n",
      " 'Distance': 4591.914705329384,\n",
      " 'FHRSID': 1423242,\n",
      " 'LocalAuthorityBusinessID': 'PI/000078141',\n",
      " 'LocalAuthorityCode': '188',\n",
      " 'LocalAuthorityEmailAddress': 'foodteam@folkestone-hythe.gov.uk',\n",
      " 'LocalAuthorityName': 'Folkestone and Hythe',\n",
      " 'LocalAuthorityWebSite': 'http://www.folkestone-hythe.gov.uk',\n",
      " 'NewRatingPending': False,\n",
      " 'Phone': '',\n",
      " 'PostCode': '',\n",
      " 'RatingDate': '2022-04-14T00:00:00',\n",
      " 'RatingKey': 'fhrs_5_en-gb',\n",
      " 'RatingValue': 5,\n",
      " 'RightToReply': '',\n",
      " 'SchemeType': 'FHRS',\n",
      " '_id': ObjectId('66a7e32b3be2335ce71d16b2'),\n",
      " 'geocode': {'latitude': 51.0783519967076, 'longitude': 1.18590330311705},\n",
      " 'links': [{'href': 'https://api.ratings.food.gov.uk/establishments/1423242',\n",
      "            'rel': 'self'}],\n",
      " 'meta': {'dataSource': None,\n",
      "          'extractDate': '0001-01-01T00:00:00',\n",
      "          'itemCount': 0,\n",
      "          'pageNumber': 0,\n",
      "          'pageSize': 0,\n",
      "          'returncode': None,\n",
      "          'totalCount': 0,\n",
      "          'totalPages': 0},\n",
      " 'scores': {'ConfidenceInManagement': None,\n",
      "            'Hygiene': None,\n",
      "            'Structural': None}}\n",
      "{'AddressLine1': '42 North Street',\n",
      " 'AddressLine2': 'Folkestone',\n",
      " 'AddressLine3': 'Kent',\n",
      " 'AddressLine4': '',\n",
      " 'BusinessName': 'The Lifeboat',\n",
      " 'BusinessType': 'Pub/bar/nightclub',\n",
      " 'BusinessTypeID': 7843,\n",
      " 'ChangesByServerID': 0,\n",
      " 'Distance': 4592.005041613854,\n",
      " 'FHRSID': 511409,\n",
      " 'LocalAuthorityBusinessID': 'PI/000039931',\n",
      " 'LocalAuthorityCode': '188',\n",
      " 'LocalAuthorityEmailAddress': 'foodteam@folkestone-hythe.gov.uk',\n",
      " 'LocalAuthorityName': 'Folkestone and Hythe',\n",
      " 'LocalAuthorityWebSite': 'http://www.folkestone-hythe.gov.uk',\n",
      " 'NewRatingPending': False,\n",
      " 'Phone': '',\n",
      " 'PostCode': 'CT19 6AF',\n",
      " 'RatingDate': '2020-07-22T00:00:00',\n",
      " 'RatingKey': 'fhrs_5_en-gb',\n",
      " 'RatingValue': 5,\n",
      " 'RightToReply': '',\n",
      " 'SchemeType': 'FHRS',\n",
      " '_id': ObjectId('66a7e32b3be2335ce71d16e3'),\n",
      " 'geocode': {'latitude': 51.081546, 'longitude': 1.186715},\n",
      " 'links': [{'href': 'https://api.ratings.food.gov.uk/establishments/511409',\n",
      "            'rel': 'self'}],\n",
      " 'meta': {'dataSource': None,\n",
      "          'extractDate': '0001-01-01T00:00:00',\n",
      "          'itemCount': 0,\n",
      "          'pageNumber': 0,\n",
      "          'pageSize': 0,\n",
      "          'returncode': None,\n",
      "          'totalCount': 0,\n",
      "          'totalPages': 0},\n",
      " 'scores': {'ConfidenceInManagement': None,\n",
      "            'Hygiene': None,\n",
      "            'Structural': None}}\n",
      "{'AddressLine1': '16 The Stade',\n",
      " 'AddressLine2': 'Folkestone',\n",
      " 'AddressLine3': 'Kent',\n",
      " 'AddressLine4': '',\n",
      " 'BusinessName': 'Mariner',\n",
      " 'BusinessType': 'Pub/bar/nightclub',\n",
      " 'BusinessTypeID': 7843,\n",
      " 'ChangesByServerID': 0,\n",
      " 'Distance': 4591.912144538092,\n",
      " 'FHRSID': 289560,\n",
      " 'LocalAuthorityBusinessID': 'PI/000039927',\n",
      " 'LocalAuthorityCode': '188',\n",
      " 'LocalAuthorityEmailAddress': 'foodteam@folkestone-hythe.gov.uk',\n",
      " 'LocalAuthorityName': 'Folkestone and Hythe',\n",
      " 'LocalAuthorityWebSite': 'http://www.folkestone-hythe.gov.uk',\n",
      " 'NewRatingPending': False,\n",
      " 'Phone': '',\n",
      " 'PostCode': 'CT19 6AB',\n",
      " 'RatingDate': '2019-03-19T00:00:00',\n",
      " 'RatingKey': 'fhrs_5_en-gb',\n",
      " 'RatingValue': 5,\n",
      " 'RightToReply': '',\n",
      " 'SchemeType': 'FHRS',\n",
      " '_id': ObjectId('66a7e32b3be2335ce71d16a8'),\n",
      " 'geocode': {'latitude': 51.08084, 'longitude': 1.188537},\n",
      " 'links': [{'href': 'https://api.ratings.food.gov.uk/establishments/289560',\n",
      "            'rel': 'self'}],\n",
      " 'meta': {'dataSource': None,\n",
      "          'extractDate': '0001-01-01T00:00:00',\n",
      "          'itemCount': 0,\n",
      "          'pageNumber': 0,\n",
      "          'pageSize': 0,\n",
      "          'returncode': None,\n",
      "          'totalCount': 0,\n",
      "          'totalPages': 0},\n",
      " 'scores': {'ConfidenceInManagement': 0, 'Hygiene': 0, 'Structural': 5}}\n",
      "{'AddressLine1': '1 The Stade',\n",
      " 'AddressLine2': 'Folkestone',\n",
      " 'AddressLine3': 'Kent',\n",
      " 'AddressLine4': '',\n",
      " 'BusinessName': 'Folkestone Trawlers Shop',\n",
      " 'BusinessType': 'Retailers - other',\n",
      " 'BusinessTypeID': 4613,\n",
      " 'ChangesByServerID': 0,\n",
      " 'Distance': 4591.912144538092,\n",
      " 'FHRSID': 344689,\n",
      " 'LocalAuthorityBusinessID': 'PI/000002095',\n",
      " 'LocalAuthorityCode': '188',\n",
      " 'LocalAuthorityEmailAddress': 'foodteam@folkestone-hythe.gov.uk',\n",
      " 'LocalAuthorityName': 'Folkestone and Hythe',\n",
      " 'LocalAuthorityWebSite': 'http://www.folkestone-hythe.gov.uk',\n",
      " 'NewRatingPending': False,\n",
      " 'Phone': '',\n",
      " 'PostCode': 'CT19 6AB',\n",
      " 'RatingDate': '2020-02-14T00:00:00',\n",
      " 'RatingKey': 'fhrs_5_en-gb',\n",
      " 'RatingValue': 5,\n",
      " 'RightToReply': '',\n",
      " 'SchemeType': 'FHRS',\n",
      " '_id': ObjectId('66a7e32b3be2335ce71d16aa'),\n",
      " 'geocode': {'latitude': 51.08084, 'longitude': 1.188537},\n",
      " 'links': [{'href': 'https://api.ratings.food.gov.uk/establishments/344689',\n",
      "            'rel': 'self'}],\n",
      " 'meta': {'dataSource': None,\n",
      "          'extractDate': '0001-01-01T00:00:00',\n",
      "          'itemCount': 0,\n",
      "          'pageNumber': 0,\n",
      "          'pageSize': 0,\n",
      "          'returncode': None,\n",
      "          'totalCount': 0,\n",
      "          'totalPages': 0},\n",
      " 'scores': {'ConfidenceInManagement': 5, 'Hygiene': 0, 'Structural': 5}}\n",
      "{'AddressLine1': 'Folkestone Harbour',\n",
      " 'AddressLine2': 'Harbour Approach Road',\n",
      " 'AddressLine3': 'Folkestone',\n",
      " 'AddressLine4': 'Kent',\n",
      " 'BusinessName': 'The Club Hut',\n",
      " 'BusinessType': 'Pub/bar/nightclub',\n",
      " 'BusinessTypeID': 7843,\n",
      " 'ChangesByServerID': 0,\n",
      " 'Distance': 4591.914705329384,\n",
      " 'FHRSID': 1071930,\n",
      " 'LocalAuthorityBusinessID': 'PI/000076531',\n",
      " 'LocalAuthorityCode': '188',\n",
      " 'LocalAuthorityEmailAddress': 'foodteam@folkestone-hythe.gov.uk',\n",
      " 'LocalAuthorityName': 'Folkestone and Hythe',\n",
      " 'LocalAuthorityWebSite': 'http://www.folkestone-hythe.gov.uk',\n",
      " 'NewRatingPending': False,\n",
      " 'Phone': '',\n",
      " 'PostCode': '',\n",
      " 'RatingDate': '2018-08-04T00:00:00',\n",
      " 'RatingKey': 'fhrs_5_en-gb',\n",
      " 'RatingValue': 5,\n",
      " 'RightToReply': '',\n",
      " 'SchemeType': 'FHRS',\n",
      " '_id': ObjectId('66a7e32b3be2335ce71d16af'),\n",
      " 'geocode': {'latitude': 51.0783519967076, 'longitude': 1.18590330311705},\n",
      " 'links': [{'href': 'https://api.ratings.food.gov.uk/establishments/1071930',\n",
      "            'rel': 'self'}],\n",
      " 'meta': {'dataSource': None,\n",
      "          'extractDate': '0001-01-01T00:00:00',\n",
      "          'itemCount': 0,\n",
      "          'pageNumber': 0,\n",
      "          'pageSize': 0,\n",
      "          'returncode': None,\n",
      "          'totalCount': 0,\n",
      "          'totalPages': 0},\n",
      " 'scores': {'ConfidenceInManagement': 5, 'Hygiene': 0, 'Structural': 5}}\n"
     ]
    }
   ],
   "source": [
    "# Search within 0.01 degree on either side of the latitude and longitude.\n",
    "# Rating value must equal 5\n",
    "# Sort by hygiene score\n",
    "\n",
    "degree_search = 0.01\n",
    "latitude = 51.083812\n",
    "longitude = 1.195625\n",
    "\n",
    "query = {\n",
    "    \"RatingValue\": 5,\n",
    "    \"geocode.latitude\": {\"$gte\": latitude - degree_search, \"$lte\": latitude + degree_search},\n",
    "    \"geocode.longitude\": {\"$gte\": longitude - degree_search, \"$lte\": longitude + degree_search}\n",
    "}\n",
    "sort = results = list(db.establishments.find(query).sort(\"scores.Hygiene\", 1).limit(5))\n",
    "\n",
    "# Print the results\n",
    "print(\"Top 5 establishments with a RatingValue of 5, sorted by lowest hygiene score, within 0.01 degrees of the specified location:\")\n",
    "for result in results:\n",
    "    pprint(result)"
   ]
  },
  {
   "cell_type": "code",
   "execution_count": 13,
   "id": "a6ad16f7",
   "metadata": {},
   "outputs": [
    {
     "name": "stdout",
     "output_type": "stream",
     "text": [
      "                        _id   FHRSID  ChangesByServerID  \\\n",
      "0  66a7e32b3be2335ce71d16b2  1423242                  0   \n",
      "1  66a7e32b3be2335ce71d16e3   511409                  0   \n",
      "2  66a7e32b3be2335ce71d16a8   289560                  0   \n",
      "3  66a7e32b3be2335ce71d16aa   344689                  0   \n",
      "4  66a7e32b3be2335ce71d16af  1071930                  0   \n",
      "\n",
      "  LocalAuthorityBusinessID              BusinessName             BusinessType  \\\n",
      "0             PI/000078141               Little Rock  Other catering premises   \n",
      "1             PI/000039931              The Lifeboat        Pub/bar/nightclub   \n",
      "2             PI/000039927                   Mariner        Pub/bar/nightclub   \n",
      "3             PI/000002095  Folkestone Trawlers Shop        Retailers - other   \n",
      "4             PI/000076531              The Club Hut        Pub/bar/nightclub   \n",
      "\n",
      "   BusinessTypeID        AddressLine1           AddressLine2 AddressLine3  \\\n",
      "0            7841  Folkestone Harbour  Harbour Approach Road   Folkestone   \n",
      "1            7843     42 North Street             Folkestone         Kent   \n",
      "2            7843        16 The Stade             Folkestone         Kent   \n",
      "3            4613         1 The Stade             Folkestone         Kent   \n",
      "4            7843  Folkestone Harbour  Harbour Approach Road   Folkestone   \n",
      "\n",
      "   ...               LocalAuthorityWebSite        LocalAuthorityEmailAddress  \\\n",
      "0  ...  http://www.folkestone-hythe.gov.uk  foodteam@folkestone-hythe.gov.uk   \n",
      "1  ...  http://www.folkestone-hythe.gov.uk  foodteam@folkestone-hythe.gov.uk   \n",
      "2  ...  http://www.folkestone-hythe.gov.uk  foodteam@folkestone-hythe.gov.uk   \n",
      "3  ...  http://www.folkestone-hythe.gov.uk  foodteam@folkestone-hythe.gov.uk   \n",
      "4  ...  http://www.folkestone-hythe.gov.uk  foodteam@folkestone-hythe.gov.uk   \n",
      "\n",
      "                                              scores  SchemeType  \\\n",
      "0  {'Hygiene': None, 'Structural': None, 'Confide...        FHRS   \n",
      "1  {'Hygiene': None, 'Structural': None, 'Confide...        FHRS   \n",
      "2  {'Hygiene': 0, 'Structural': 5, 'ConfidenceInM...        FHRS   \n",
      "3  {'Hygiene': 0, 'Structural': 5, 'ConfidenceInM...        FHRS   \n",
      "4  {'Hygiene': 0, 'Structural': 5, 'ConfidenceInM...        FHRS   \n",
      "\n",
      "                                             geocode RightToReply  \\\n",
      "0  {'longitude': 1.18590330311705, 'latitude': 51...                \n",
      "1     {'longitude': 1.186715, 'latitude': 51.081546}                \n",
      "2      {'longitude': 1.188537, 'latitude': 51.08084}                \n",
      "3      {'longitude': 1.188537, 'latitude': 51.08084}                \n",
      "4  {'longitude': 1.18590330311705, 'latitude': 51...                \n",
      "\n",
      "      Distance NewRatingPending  \\\n",
      "0  4591.914705            False   \n",
      "1  4592.005042            False   \n",
      "2  4591.912145            False   \n",
      "3  4591.912145            False   \n",
      "4  4591.914705            False   \n",
      "\n",
      "                                                meta  \\\n",
      "0  {'dataSource': None, 'extractDate': '0001-01-0...   \n",
      "1  {'dataSource': None, 'extractDate': '0001-01-0...   \n",
      "2  {'dataSource': None, 'extractDate': '0001-01-0...   \n",
      "3  {'dataSource': None, 'extractDate': '0001-01-0...   \n",
      "4  {'dataSource': None, 'extractDate': '0001-01-0...   \n",
      "\n",
      "                                               links  \n",
      "0  [{'rel': 'self', 'href': 'https://api.ratings....  \n",
      "1  [{'rel': 'self', 'href': 'https://api.ratings....  \n",
      "2  [{'rel': 'self', 'href': 'https://api.ratings....  \n",
      "3  [{'rel': 'self', 'href': 'https://api.ratings....  \n",
      "4  [{'rel': 'self', 'href': 'https://api.ratings....  \n",
      "\n",
      "[5 rows x 28 columns]\n"
     ]
    }
   ],
   "source": [
    "# Convert result to Pandas DataFrame\n",
    "df = pd.DataFrame(results)\n",
    "print(df)"
   ]
  },
  {
   "cell_type": "markdown",
   "id": "67281254",
   "metadata": {},
   "source": [
    "### 4. How many establishments in each Local Authority area have a hygiene score of 0?"
   ]
  },
  {
   "cell_type": "code",
   "execution_count": 14,
   "id": "4eeb227e",
   "metadata": {},
   "outputs": [
    {
     "name": "stdout",
     "output_type": "stream",
     "text": [
      "Number of documents in the result: 55\n",
      "First 10 results:\n",
      "[{'_id': 'Thanet', 'count': 1130},\n",
      " {'_id': 'Greenwich', 'count': 882},\n",
      " {'_id': 'Maidstone', 'count': 713},\n",
      " {'_id': 'Newham', 'count': 711},\n",
      " {'_id': 'Swale', 'count': 686},\n",
      " {'_id': 'Chelmsford', 'count': 680},\n",
      " {'_id': 'Medway', 'count': 672},\n",
      " {'_id': 'Bexley', 'count': 607},\n",
      " {'_id': 'Southend-On-Sea', 'count': 586},\n",
      " {'_id': 'Tendring', 'count': 542}]\n"
     ]
    }
   ],
   "source": [
    "# Create a pipeline that:\n",
    "pipeline = [\n",
    "# 1. Matches establishments with a hygiene score of 0\n",
    "{\"$match\": {\"scores.Hygiene\": 0}},\n",
    "\n",
    "# 2. Groups the matches by Local Authority\n",
    "{\"$group\": {\"_id\": \"$LocalAuthorityName\", \"count\": {\"$sum\": 1}}},\n",
    "\n",
    "# 3. Sorts the matches from highest to lowest\n",
    "{\"$sort\": {\"count\": -1}}\n",
    "]\n",
    "\n",
    "# Aggregation pipeline \n",
    "results = list(db.establishments.aggregate(pipeline)) \n",
    "\n",
    "# Print the number of documents in the result\n",
    "print(f\"Number of documents in the result: {len(results)}\")\n",
    "\n",
    "# Print the first 10 results\n",
    "print(\"First 10 results:\")\n",
    "pprint(results[:10])"
   ]
  },
  {
   "cell_type": "code",
   "execution_count": 15,
   "id": "d8aab364",
   "metadata": {},
   "outputs": [
    {
     "name": "stdout",
     "output_type": "stream",
     "text": [
      "Number of rows in the DataFrame: 55\n",
      "First 10 rows of the DataFrame:\n",
      "               _id  count\n",
      "0           Thanet   1130\n",
      "1        Greenwich    882\n",
      "2        Maidstone    713\n",
      "3           Newham    711\n",
      "4            Swale    686\n",
      "5       Chelmsford    680\n",
      "6           Medway    672\n",
      "7           Bexley    607\n",
      "8  Southend-On-Sea    586\n",
      "9         Tendring    542\n"
     ]
    }
   ],
   "source": [
    "# Convert the result to a Pandas DataFrame\n",
    "df = pd.DataFrame(results)\n",
    "\n",
    "# Display the number of rows in the DataFrame\n",
    "print(f\"Number of rows in the DataFrame: {len(df)}\")\n",
    "\n",
    "# Display the first 10 rows of the DataFrame\n",
    "print(\"First 10 rows of the DataFrame:\")\n",
    "print(df.head(10))"
   ]
  },
  {
   "cell_type": "code",
   "execution_count": null,
   "id": "b82396d5-2e62-4d48-95d0-86229a144a27",
   "metadata": {},
   "outputs": [],
   "source": []
  }
 ],
 "metadata": {
  "kernelspec": {
   "display_name": "Python 3 (ipykernel)",
   "language": "python",
   "name": "python3"
  },
  "language_info": {
   "codemirror_mode": {
    "name": "ipython",
    "version": 3
   },
   "file_extension": ".py",
   "mimetype": "text/x-python",
   "name": "python",
   "nbconvert_exporter": "python",
   "pygments_lexer": "ipython3",
   "version": "3.11.7"
  }
 },
 "nbformat": 4,
 "nbformat_minor": 5
}
